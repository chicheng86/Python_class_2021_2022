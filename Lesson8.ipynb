{
 "cells": [
  {
   "cell_type": "code",
   "execution_count": null,
   "metadata": {
    "collapsed": true
   },
   "outputs": [],
   "source": [
    "#please note if your Jupyter notebook does not compatible with turtle, please use\n",
    "# https://replit.com/\n",
    "# or https://trinket.io/\n",
    "# please refer to https://docs.python.org/3/library/turtle.html"
   ]
  },
  {
   "cell_type": "code",
   "execution_count": 2,
   "metadata": {
    "collapsed": true
   },
   "outputs": [],
   "source": [
    "# Use turtle to draw a square\n",
    "import turtle\n",
    "cc = turtle.Turtle() \n",
    "cc.shape(\"turtle\")\n",
    "cc.color(\"red\")\n",
    "\n",
    "cc.fd(30)\n",
    "cc.rt(90)\n",
    "cc.fd(30)\n",
    "cc.rt(90)\n",
    "cc.fd(30)\n",
    "cc.rt(90)"
   ]
  },
  {
   "cell_type": "code",
   "execution_count": null,
   "metadata": {
    "collapsed": true
   },
   "outputs": [],
   "source": [
    "# Use turtle to draw a triangle\n",
    "import turtle\n",
    "cc = turtle.Turtle() \n",
    "cc.shape(\"turtle\")\n",
    "cc.color(\"red\")\n",
    "   \n",
    "cc.rt(120)\n",
    "cc.fd(100)\n",
    "cc.rt(120)\n",
    "cc.fd(100)\n",
    "cc.rt(120)\n",
    "cc.fd(100)"
   ]
  },
  {
   "cell_type": "markdown",
   "metadata": {},
   "source": [
    "1. Define a funtion to draw a triangle with no prameter"
   ]
  },
  {
   "cell_type": "code",
   "execution_count": null,
   "metadata": {
    "collapsed": true
   },
   "outputs": [],
   "source": [
    "# Use turtle to draw a triangle\n",
    "import turtle\n",
    "cc = turtle.Turtle() \n",
    "cc.shape(\"turtle\")\n",
    "cc.color(\"red\")\n",
    "\n",
    "def draw_triangle():    \n",
    "    cc.rt(120)\n",
    "    cc.fd(100)\n",
    "    cc.rt(120)\n",
    "    cc.fd(100)\n",
    "    cc.rt(120)\n",
    "    cc.fd(100)\n",
    "        \n",
    "draw_triangle(100)"
   ]
  },
  {
   "cell_type": "markdown",
   "metadata": {},
   "source": [
    "2.Define a funtion to draw a triangle with side lenth as a parameter."
   ]
  },
  {
   "cell_type": "code",
   "execution_count": null,
   "metadata": {
    "collapsed": true
   },
   "outputs": [],
   "source": [
    "import turtle\n",
    "cc = turtle.Turtle() \n",
    "cc.shape(\"turtle\")\n",
    "cc.color(\"red\")\n",
    "\n",
    "def draw_triangle(l):    \n",
    "    cc.rt(120)\n",
    "    cc.fd(l)\n",
    "    cc.rt(120)\n",
    "    cc.fd(l)\n",
    "    cc.rt(120)\n",
    "    cc.fd(l)\n",
    "        \n",
    "draw_triangle(100)"
   ]
  },
  {
   "cell_type": "markdown",
   "metadata": {},
   "source": [
    "3.Define a funtion to draw a triangle with side lenth as a parameter with for loop"
   ]
  },
  {
   "cell_type": "code",
   "execution_count": null,
   "metadata": {
    "collapsed": true
   },
   "outputs": [],
   "source": [
    "import turtle\n",
    "cc = turtle.Turtle() \n",
    "cc.shape(\"turtle\")\n",
    "cc.color(\"red\")\n",
    "\n",
    "def draw_triangle(l):\n",
    "    for i in range(3):\n",
    "        cc.rt(120)\n",
    "        cc.fd(l)\n",
    "        \n",
    "draw_triangle(100)"
   ]
  }
 ],
 "metadata": {
  "kernelspec": {
   "display_name": "Python 3",
   "language": "python",
   "name": "python3"
  },
  "language_info": {
   "codemirror_mode": {
    "name": "ipython",
    "version": 3
   },
   "file_extension": ".py",
   "mimetype": "text/x-python",
   "name": "python",
   "nbconvert_exporter": "python",
   "pygments_lexer": "ipython3",
   "version": "3.6.11"
  }
 },
 "nbformat": 4,
 "nbformat_minor": 2
}
