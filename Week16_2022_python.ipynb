{
 "cells": [
  {
   "cell_type": "markdown",
   "metadata": {},
   "source": [
    "1. infinite loop.\n",
    "2. counter/condional statement to avoid infinite loop.\n",
    "3. break:stop the while loop\n",
    "   continue: skip one iteration. "
   ]
  },
  {
   "cell_type": "code",
   "execution_count": null,
   "metadata": {},
   "outputs": [],
   "source": [
    "num=10\n",
    "guess=int(input('what is your guess')) # change the input from str to int\n",
    "while guess!=num:\n",
    "    if guess>num:\n",
    "        print('You guess is too large')\n",
    "    else:\n",
    "        print('You guess is too small')\n",
    "    guess=int(input('what is your guess'))\n",
    "\n",
    "if guess==num:\n",
    "    print('You got it!')\n",
    "    "
   ]
  },
  {
   "cell_type": "code",
   "execution_count": null,
   "metadata": {},
   "outputs": [],
   "source": [
    "num=10   #make sure the guess's data type is the same as num\n",
    "counter=0\n",
    "while counter<3:\n",
    "    guess=int(input('what is your guess'))\n",
    "    if guess==num:\n",
    "        print('You got it')\n",
    "        break\n",
    "    elif guess>num:\n",
    "        print('Your guess is large')\n",
    "    else:\n",
    "        print('Your guess is small')        \n",
    "    counter=counter+1    \n",
    "        \n",
    "if counter==3:\n",
    "    print('You are locked!')"
   ]
  },
  {
   "cell_type": "code",
   "execution_count": null,
   "metadata": {},
   "outputs": [],
   "source": [
    "num=10\n",
    "guess=int(input('what is your guess')) # change the input from str to int\n",
    "while guess!=num:\n",
    "    if guess>num:\n",
    "        print('You guess is too large')\n",
    "    else:\n",
    "        print('You guess is too small')\n",
    "    #guess=int(input('what is your guess'))\n",
    "\n",
    "if guess==num:\n",
    "    print('You got it!')"
   ]
  },
  {
   "cell_type": "markdown",
   "metadata": {},
   "source": [
    "Chapter 8: String"
   ]
  },
  {
   "cell_type": "code",
   "execution_count": null,
   "metadata": {
    "collapsed": true
   },
   "outputs": [],
   "source": [
    "What is string: A string is a sequence of characters\n",
    "'Banana'\n",
    "Pineapple ==> Variable\n",
    "5.0 ==> Float\n",
    "'5.0'"
   ]
  },
  {
   "cell_type": "code",
   "execution_count": null,
   "metadata": {
    "collapsed": true
   },
   "outputs": [],
   "source": [
    "s1='Banana'\n",
    "s2='nanabBa'\n",
    "s1==s2"
   ]
  },
  {
   "cell_type": "code",
   "execution_count": 1,
   "metadata": {},
   "outputs": [
    {
     "data": {
      "text/plain": [
       "False"
      ]
     },
     "execution_count": 1,
     "metadata": {},
     "output_type": "execute_result"
    }
   ],
   "source": [
    "s1='Banana'\n",
    "s2='nanaBa'\n",
    "s1==s2  # The sequence of those character is not the same."
   ]
  },
  {
   "cell_type": "raw",
   "metadata": {},
   "source": [
    "B A N A N A   # 6 characters\n",
    "0 1 2 3 4 5"
   ]
  },
  {
   "cell_type": "code",
   "execution_count": 2,
   "metadata": {},
   "outputs": [
    {
     "data": {
      "text/plain": [
       "'B'"
      ]
     },
     "execution_count": 2,
     "metadata": {},
     "output_type": "execute_result"
    }
   ],
   "source": [
    "s='Banana'\n",
    "s[0]\n"
   ]
  },
  {
   "cell_type": "code",
   "execution_count": 3,
   "metadata": {},
   "outputs": [
    {
     "data": {
      "text/plain": [
       "'a'"
      ]
     },
     "execution_count": 3,
     "metadata": {},
     "output_type": "execute_result"
    }
   ],
   "source": [
    "s[3]"
   ]
  },
  {
   "cell_type": "code",
   "execution_count": 4,
   "metadata": {},
   "outputs": [
    {
     "data": {
      "text/plain": [
       "'a'"
      ]
     },
     "execution_count": 4,
     "metadata": {},
     "output_type": "execute_result"
    }
   ],
   "source": [
    "s[5]"
   ]
  },
  {
   "cell_type": "code",
   "execution_count": 5,
   "metadata": {},
   "outputs": [
    {
     "data": {
      "text/plain": [
       "6"
      ]
     },
     "execution_count": 5,
     "metadata": {},
     "output_type": "execute_result"
    }
   ],
   "source": [
    "len(s)"
   ]
  },
  {
   "cell_type": "markdown",
   "metadata": {},
   "source": [
    "8.3 Traversal with a for loop"
   ]
  },
  {
   "cell_type": "code",
   "execution_count": 6,
   "metadata": {},
   "outputs": [
    {
     "name": "stdout",
     "output_type": "stream",
     "text": [
      "B\n",
      "a\n",
      "n\n",
      "a\n",
      "n\n",
      "a\n"
     ]
    }
   ],
   "source": [
    "index=0     # Homework for today is how to print the string backward..\n",
    "while index<len(s):\n",
    "    print(s[index])\n",
    "    index=index+1"
   ]
  },
  {
   "cell_type": "code",
   "execution_count": 7,
   "metadata": {},
   "outputs": [
    {
     "name": "stdout",
     "output_type": "stream",
     "text": [
      "B\n",
      "a\n",
      "n\n",
      "a\n",
      "n\n",
      "a\n"
     ]
    }
   ],
   "source": [
    "for char in s:\n",
    "    print(char)"
   ]
  },
  {
   "cell_type": "code",
   "execution_count": null,
   "metadata": {
    "collapsed": true
   },
   "outputs": [],
   "source": []
  }
 ],
 "metadata": {
  "kernelspec": {
   "display_name": "Python 3",
   "language": "python",
   "name": "python3"
  },
  "language_info": {
   "codemirror_mode": {
    "name": "ipython",
    "version": 3
   },
   "file_extension": ".py",
   "mimetype": "text/x-python",
   "name": "python",
   "nbconvert_exporter": "python",
   "pygments_lexer": "ipython3",
   "version": "3.6.11"
  }
 },
 "nbformat": 4,
 "nbformat_minor": 2
}
