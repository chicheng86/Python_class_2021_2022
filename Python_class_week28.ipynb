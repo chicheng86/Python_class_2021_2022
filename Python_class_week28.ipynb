{
 "cells": [
  {
   "cell_type": "code",
   "execution_count": 3,
   "metadata": {},
   "outputs": [
    {
     "name": "stdout",
     "output_type": "stream",
     "text": [
      "C:\\Users\\CHENGCHI\\Python_class_2020Fall\n"
     ]
    }
   ],
   "source": [
    "import os\n",
    "print(os.getcwd())"
   ]
  },
  {
   "cell_type": "code",
   "execution_count": 21,
   "metadata": {},
   "outputs": [
    {
     "name": "stdout",
     "output_type": "stream",
     "text": [
      "Column names are Name.Team.Number.Position.Age.Height.Weight.College.Salary\n",
      "{'Avery Bradley': 'Texas'}\n",
      "{'Avery Bradley': 'Texas', 'Jae Crowder': 'Marquette'}\n",
      "{'Avery Bradley': 'Texas', 'Jae Crowder': 'Marquette', 'John Holland': 'Boston University'}\n",
      "Processed 458 lines.\n"
     ]
    }
   ],
   "source": [
    "import csv\n",
    "filename=\"nba.csv\"\n",
    "d={}  \n",
    "# opening the file using \"with\"\n",
    "# statement\n",
    "with open(filename,'r') as csv_file:\n",
    "    csv_reader=csv.reader(csv_file,delimiter=',')\n",
    "    line_count=0\n",
    "    for row in csv_reader:\n",
    "        if line_count==0:\n",
    "            print(f'Column names are {\".\".join(row)}')\n",
    "            line_count+=1\n",
    "        else:\n",
    "            d[row[0]]=row[7]\n",
    "            line_count+=1\n",
    "           \n",
    "            \n",
    "    print(f'Processed {line_count} lines.')"
   ]
  },
  {
   "cell_type": "code",
   "execution_count": null,
   "metadata": {
    "collapsed": true
   },
   "outputs": [],
   "source": [
    "#1. Who got the highest salaries.. \n",
    "#2. Who"
   ]
  },
  {
   "cell_type": "code",
   "execution_count": 31,
   "metadata": {},
   "outputs": [
    {
     "data": {
      "text/plain": [
       "['Brook Lopez',\n",
       " 'Robin Lopez',\n",
       " 'Anthony Brown',\n",
       " 'Dwight Powell',\n",
       " 'Josh Huestis']"
      ]
     },
     "execution_count": 31,
     "metadata": {},
     "output_type": "execute_result"
    }
   ],
   "source": [
    "reverse_lookup_list(d, 'Stanford')"
   ]
  },
  {
   "cell_type": "code",
   "execution_count": null,
   "metadata": {
    "collapsed": true
   },
   "outputs": [],
   "source": [
    "import csv\n",
    "filename=\"nba.csv\"\n",
    "d={}  \n",
    "# opening the file using \"with\"\n",
    "# statement\n",
    "with open(filename,'r') as csv_file:\n",
    "    csv_reader=csv.reader(csv_file,delimiter=',')"
   ]
  },
  {
   "cell_type": "code",
   "execution_count": 2,
   "metadata": {},
   "outputs": [
    {
     "name": "stdout",
     "output_type": "stream",
     "text": [
      "C:\\Users\\CHENGCHI\\Python_class_2020Fall\n"
     ]
    }
   ],
   "source": [
    "import os\n",
    "print(os.getcwd())"
   ]
  },
  {
   "cell_type": "code",
   "execution_count": 9,
   "metadata": {},
   "outputs": [
    {
     "name": "stdout",
     "output_type": "stream",
     "text": [
      "Column names are Name.Team.Number.Position.Age.Height.Weight.College.Salary\n",
      "Avery Bradley.Boston Celtics.0.PG.25.2-Jun.180.Texas.7730337\n",
      "Jae Crowder.Boston Celtics.99.SF.25.6-Jun.235.Marquette.6796117\n",
      "John Holland.Boston Celtics.30.SG.27.5-Jun.205.Boston University.\n",
      "R.J. Hunter.Boston Celtics.28.SG.22.5-Jun.185.Georgia State.1148640\n",
      "Jonas Jerebko.Boston Celtics.8.PF.29.10-Jun.231..5000000\n",
      "Processed 458 lines.\n",
      "{'Avery Bradley': '7730337', 'Jae Crowder': '6796117', 'John Holland': '', 'R.J. Hunter': '1148640', 'Jonas Jerebko': '5000000', 'Amir Johnson': '12000000', 'Jordan Mickey': '1170960', 'Kelly Olynyk': '2165160', 'Terry Rozier': '1824360', 'Marcus Smart': '3431040', 'Jared Sullinger': '2569260', 'Isaiah Thomas': '6912869', 'Evan Turner': '3425510', 'James Young': '1749840', 'Tyler Zeller': '2616975', 'Bojan Bogdanovic': '3425510', 'Markel Brown': '845059', 'Wayne Ellington': '1500000', 'Rondae Hollis-Jefferson': '1335480', 'Jarrett Jack': '6300000', 'Sergey Karasev': '1599840', 'Sean Kilpatrick': '134215', 'Shane Larkin': '1500000', 'Brook Lopez': '19689000', 'Chris McCullough': '1140240', 'Willie Reed': '947276', 'Thomas Robinson': '981348', 'Henry Sims': '947276', 'Donald Sloan': '947276', 'Thaddeus Young': '11235955', 'Arron Afflalo': '8000000', 'Lou Amundson': '1635476', 'Thanasis Antetokounmpo': '30888', 'Carmelo Anthony': '22875000', 'Jose Calderon': '7402812', 'Cleanthony Early': '845059', 'Langston Galloway': '845059', 'Jerian Grant': '1572360', 'Robin Lopez': '12650000', \"Kyle O'Quinn\": '3750000', 'Kristaps Porzingis': '4131720', 'Kevin Seraphin': '2814000', 'Lance Thomas': '1636842', 'Sasha Vujacic': '947276', 'Derrick Williams': '4000000', 'Tony Wroten': '167406', 'Elton Brand': '', 'Isaiah Canaan': '947276', 'Robert Covington': '1000000', 'Joel Embiid': '4626960', 'Jerami Grant': '845059', 'Richaun Holmes': '1074169', 'Carl Landry': '6500000', 'Kendall Marshall': '2144772', 'T.J. McConnell': '525093', 'Nerlens Noel': '3457800', 'Jahlil Okafor': '4582680', 'Ish Smith': '947276', 'Nik Stauskas': '2869440', 'Hollis Thompson': '947276', 'Christian Wood': '525093', 'Bismack Biyombo': '2814000', 'Bruno Caboclo': '1524000', 'DeMarre Carroll': '13600000', 'DeMar DeRozan': '10050000', 'James Johnson': '2500000', 'Cory Joseph': '7000000', 'Kyle Lowry': '12000000', 'Lucas Nogueira': '1842000', 'Patrick Patterson': '6268675', 'Norman Powell': '650000', 'Terrence Ross': '3553917', 'Luis Scola': '2900000', 'Jason Thompson': '245177', 'Jonas Valanciunas': '4660482', 'Delon Wright': '1509360', 'Leandro Barbosa': '2500000', 'Harrison Barnes': '3873398', 'Andrew Bogut': '13800000', 'Ian Clark': '947276', 'Stephen Curry': '11370786', 'Festus Ezeli': '2008748', 'Draymond Green': '14260870', 'Andre Iguodala': '11710456', 'Shaun Livingston': '5543725', 'Kevon Looney': '1131960', 'James Michael McAdoo': '845059', 'Brandon Rush': '1270964', 'Marreese Speights': '3815000', 'Klay Thompson': '15501000', 'Anderson Varejao': '289755', 'Cole Aldrich': '1100602', 'Jeff Ayres': '111444', 'Jamal Crawford': '5675000', 'Branden Dawson': '525093', 'Jeff Green': '9650000', 'Blake Griffin': '18907726', 'Wesley Johnson': '1100602', 'DeAndre Jordan': '19689000', 'Luc Richard Mbah a Moute': '947276', 'Chris Paul': '21468695', 'Paul Pierce': '3376000', 'Pablo Prigioni': '947726', 'JJ Redick': '7085000', 'Austin Rivers': '3110796', 'C.J. Wilcox': '1159680', 'Brandon Bass': '3000000', 'Tarik Black': '845059', 'Anthony Brown': '700000', 'Kobe Bryant': '25000000', 'Jordan Clarkson': '845059', 'Roy Hibbert': '15592217', 'Marcelo Huertas': '525093', 'Ryan Kelly': '1724250', 'Larry Nance Jr.': '1155600', 'Julius Randle': '3132240', \"D'Angelo Russell\": '5103120', 'Robert Sacre': '981348', 'Louis Williams': '7000000', 'Metta World Peace': '947276', 'Nick Young': '5219169', 'Eric Bledsoe': '13500000', 'Devin Booker': '2127840', 'Chase Budinger': '206192', 'Tyson Chandler': '13000000', 'Archie Goodwin': '1160160', 'John Jenkins': '981348', 'Brandon Knight': '13500000', 'Alex Len': '3807120', 'Jon Leuer': '1035000', 'Phil Pressey': '55722', 'Ronnie Price': '947276', 'Mirza Teletovic': '5500000', 'P.J. Tucker': '5500000', 'T.J. Warren': '2041080', 'Alan Williams': '83397', 'Quincy Acy': '981348', 'James Anderson': '1015421', 'Marco Belinelli': '6060606', 'Caron Butler': '1449187', 'Omri Casspi': '2836186', 'Willie Cauley-Stein': '3398280', 'Darren Collison': '5013559', 'DeMarcus Cousins': '15851950', 'Seth Curry': '947276', 'Duje Dukan': '525093', 'Rudy Gay': '12403101', 'Kosta Koufos': '7700000', 'Ben McLemore': '3156600', 'Eric Moreland': '845059', 'Rajon Rondo': '9500000', 'Cameron Bairstow': '845059', 'Aaron Brooks': '2250000', 'Jimmy Butler': '16407500', 'Mike Dunleavy': '4500000', 'Cristiano Felicio': '525093', 'Pau Gasol': '7448760', 'Taj Gibson': '8500000', 'Justin Holiday': '947276', 'Doug McDermott': '2380440', 'Nikola Mirotic': '5543725', \"E'Twaun Moore\": '1015421', 'Joakim Noah': '13400000', 'Bobby Portis': '1391160', 'Derrick Rose': '20093064', 'Tony Snell': '1535880', 'Matthew Dellavedova': '1147276', 'Channing Frye': '8193029', 'Kyrie Irving': '16407501', 'LeBron James': '22970500', 'Richard Jefferson': '947276', 'Dahntay Jones': '', 'James Jones': '947276', 'Sasha Kaun': '1276000', 'Kevin Love': '19689000', 'Jordan McRae': '111196', 'Timofey Mozgov': '4950000', 'Iman Shumpert': '8988765', 'J.R. Smith': '5000000', 'Tristan Thompson': '14260870', 'Mo Williams': '2100000', 'Joel Anthony': '2500000', 'Aron Baynes': '6500000', 'Steve Blake': '2170465', 'Lorenzo Brown': '111444', 'Reggie Bullock': '1252440', 'Kentavious Caldwell-Pope': '2891760', 'Spencer Dinwiddie': '845059', 'Andre Drummond': '3272091', 'Tobias Harris': '16000000', 'Darrun Hilliard': '600000', 'Reggie Jackson': '13913044', 'Stanley Johnson': '2841960', 'Jodie Meeks': '6270000', 'Marcus Morris': '5000000', 'Anthony Tolliver': '3000000', 'Lavoy Allen': '4050000', 'Rakeem Christmas': '1007026', 'Monta Ellis': '10300000', 'Paul George': '17120106', 'George Hill': '8000000', 'Jordan Hill': '4000000', 'Solomon Hill': '1358880', 'Ty Lawson': '211744', 'Ian Mahinmi': '4000000', 'C.J. Miles': '4394225', 'Glenn Robinson III': '1100000', 'Rodney Stuckey': '7000000', 'Myles Turner': '2357760', 'Shayne Whittington': '845059', 'Joe Young': '1007026', 'Giannis Antetokounmpo': '1953960', 'Jerryd Bayless': '3000000', 'Michael Carter-Williams': '2399040', 'Jared Cunningham': '947276', 'Tyler Ennis': '1662360', 'John Henson': '2943221', 'Damien Inglis': '855000', 'O.J. Mayo': '8000000', 'Khris Middleton': '14700000', 'Greg Monroe': '16407500', 'Steve Novak': '295327', \"Johnny O'Bryant III\": '845059', 'Jabari Parker': '5152440', 'Miles Plumlee': '2109294', 'Greivis Vasquez': '6600000', 'Rashad Vaughn': '1733040', 'Justin Anderson': '1449000', 'J.J. Barea': '4290000', 'Jeremy Evans': '1100602', 'Raymond Felton': '3950313', 'Devin Harris': '4053446', 'David Lee': '2085671', 'Wesley Matthews': '16407500', 'JaVale McGee': '1270964', 'Salah Mejri': '525093', 'Dirk Nowitzki': '8333334', 'Zaza Pachulia': '5200000', 'Chandler Parsons': '15361500', 'Dwight Powell': '845059', 'Charlie Villanueva': '947276', 'Deron Williams': '5378974', 'Trevor Ariza': '8193030', 'Michael Beasley': '306527', 'Patrick Beverley': '6486486', 'Corey Brewer': '8229375', 'Clint Capela': '1242720', 'Sam Dekker': '1646400', 'Andrew Goudelock': '200600', 'James Harden': '15756438', 'Montrezl Harrell': '1000000', 'Dwight Howard': '22359364', 'Terrence Jones': '2489530', 'K.J. McDaniels': '3189794', 'Donatas Motiejunas': '2288205', 'Josh Smith': '947276', 'Jason Terry': '947276', 'Jordan Adams': '1404600', 'Tony Allen': '5158539', 'Chris Andersen': '5000000', 'Matt Barnes': '3542500', 'Vince Carter': '4088019', 'Mike Conley': '9588426', 'Bryce Cotton': '700902', 'Jordan Farmar': '', 'Marc Gasol': '19688000', 'JaMychal Green': '845059', 'P.J. Hairston': '1201440', 'Jarell Martin': '1230840', 'Ray McCallum': '', 'Xavier Munford': '', 'Zach Randolph': '9638555', 'Lance Stephenson': '9000000', 'Alex Stepheson': '', 'Brandan Wright': '5464000', 'Alexis Ajinca': '4389607', 'Ryan Anderson': '8500000', 'Omer Asik': '9213483', 'Luke Babbitt': '1100602', 'Norris Cole': '3036927', 'Dante Cunningham': '2850000', 'Anthony Davis': '7070730', 'Bryce Dejean-Jones': '169883', 'Toney Douglas': '1164858', 'James Ennis': '845059', 'Tyreke Evans': '10734586', 'Tim Frazier': '845059', 'Alonzo Gee': '1320000', 'Eric Gordon': '15514031', 'Jordan Hamilton': '1015421', 'Jrue Holiday': '10595507', 'Orlando Johnson': '55722', 'Kendrick Perkins': '947276', 'Quincy Pondexter': '3382023', 'LaMarcus Aldridge': '19689000', 'Kyle Anderson': '1142880', 'Matt Bonner': '947276', 'Boris Diaw': '7500000', 'Tim Duncan': '5250000', 'Manu Ginobili': '2814000', 'Danny Green': '10000000', 'Kawhi Leonard': '16407500', 'Boban Marjanovic': '1200000', 'Kevin Martin': '200600', 'Andre Miller': '250750', 'Patty Mills': '3578947', 'Tony Parker': '13437500', 'Jonathon Simmons': '525093', 'David West': '1499187', 'Kent Bazemore': '2000000', 'Tim Hardaway Jr.': '1304520', 'Kirk Hinrich': '2854940', 'Al Horford': '12000000', 'Kris Humphries': '1000000', 'Kyle Korver': '5746479', 'Paul Millsap': '18671659', 'Mike Muscala': '947276', 'Lamar Patterson': '525093', 'Dennis Schroder': '1763400', 'Mike Scott': '3333333', 'Thabo Sefolosha': '4000000', 'Tiago Splitter': '9756250', 'Walter Tavares': '1000000', 'Jeff Teague': '8000000', 'Nicolas Batum': '13125306', 'Troy Daniels': '947276', 'Jorge Gutierrez': '189455', 'Tyler Hansbrough': '947276', 'Aaron Harrison': '525093', 'Spencer Hawes': '6110034', 'Al Jefferson': '13500000', 'Frank Kaminsky III': '2612520', 'Michael Kidd-Gilchrist': '6331404', 'Jeremy Lamb': '3034356', 'Courtney Lee': '5675000', 'Jeremy Lin': '2139000', 'Kemba Walker': '12000000', 'Marvin Williams': '7000000', 'Cody Zeller': '4204200', 'Chris Bosh': '22192730', 'Luol Deng': '10151612', 'Goran Dragic': '14783000', 'Gerald Green': '947276', 'Udonis Haslem': '2854940', 'Joe Johnson': '261894', 'Tyler Johnson': '845059', 'Josh McRoberts': '5543725', 'Josh Richardson': '525093', \"Amar'e Stoudemire\": '947276', 'Dwyane Wade': '20000000', 'Briante Weber': '', 'Hassan Whiteside': '981348', 'Justise Winslow': '2481720', 'Dorell Wright': '', 'Dewayne Dedmon': '947276', 'Evan Fournier': '2288205', 'Aaron Gordon': '4171680', 'Mario Hezonja': '3741480', 'Ersan Ilyasova': '7900000', 'Brandon Jennings': '8344497', 'Devyn Marble': '845059', 'Shabazz Napier': '1294440', 'Andrew Nicholson': '2380593', 'Victor Oladipo': '5192520', 'Elfrid Payton': '2505720', 'Jason Smith': '4300000', 'Nikola Vucevic': '11250000', 'C.J. Watson': '5000000', 'Alan Anderson': '4000000', 'Bradley Beal': '5694674', 'Jared Dudley': '4375000', 'Jarell Eddie': '561716', 'Drew Gooden': '3300000', 'Marcin Gortat': '11217391', 'JJ Hickson': '273038', 'Nene Hilario': '13000000', 'Markieff Morris': '8000000', 'Kelly Oubre Jr.': '1920240', 'Otto Porter Jr.': '4662960', 'Ramon Sessions': '2170465', 'Garrett Temple': '1100602', 'Marcus Thornton': '200600', 'John Wall': '15851950', 'Darrell Arthur': '2814000', 'D.J. Augustin': '3000000', 'Will Barton': '3533333', 'Wilson Chandler': '10449438', 'Kenneth Faried': '11235955', 'Danilo Gallinari': '14000000', 'Gary Harris': '1584480', 'Nikola Jokic': '1300000', 'Joffrey Lauvergne': '1709719', 'Mike Miller': '947276', 'Emmanuel Mudiay': '3102240', 'Jameer Nelson': '4345000', 'Jusuf Nurkic': '1842000', 'JaKarr Sampson': '258489', 'Axel Toupane': '', 'Nemanja Bjelica': '3950001', 'Gorgui Dieng': '1474440', 'Kevin Garnett': '8500000', 'Tyus Jones': '1282080', 'Zach LaVine': '2148360', 'Shabazz Muhammad': '2056920', 'Adreian Payne': '1938840', 'Nikola Pekovic': '12100000', 'Tayshaun Prince': '947276', 'Ricky Rubio': '12700000', 'Damjan Rudez': '1149500', 'Greg Smith': '', 'Karl-Anthony Towns': '5703600', 'Andrew Wiggins': '5758680', 'Steven Adams': '2279040', 'Nick Collison': '3750000', 'Kevin Durant': '20158622', 'Randy Foye': '3135000', 'Josh Huestis': '1140240', 'Serge Ibaka': '12250000', 'Enes Kanter': '16407500', 'Mitch McGary': '1463040', 'Nazr Mohammed': '222888', 'Anthony Morrow': '3344000', 'Cameron Payne': '2021520', 'Andre Roberson': '1210800', 'Kyle Singler': '4500000', 'Dion Waiters': '5138430', 'Russell Westbrook': '16744218', 'Cliff Alexander': '525093', 'Al-Farouq Aminu': '8042895', 'Pat Connaughton': '625093', 'Allen Crabbe': '947276', 'Ed Davis': '6980802', 'Maurice Harkless': '2894059', 'Gerald Henderson': '6000000', 'Chris Kaman': '5016000', 'Meyers Leonard': '3075880', 'Damian Lillard': '4236287', 'C.J. McCollum': '2525160', 'Luis Montero': '525093', 'Mason Plumlee': '1415520', 'Brian Roberts': '2854940', 'Noah Vonleh': '2637720', 'Trevor Booker': '4775000', 'Trey Burke': '2658240', 'Alec Burks': '9463484', 'Dante Exum': '3777720', 'Derrick Favors': '12000000', 'Rudy Gobert': '1175880', 'Gordon Hayward': '15409570', 'Rodney Hood': '1348440', 'Joe Ingles': '2050000', 'Chris Johnson': '981348', 'Trey Lyles': '2239800', 'Shelvin Mack': '2433333', 'Raul Neto': '900000', 'Tibor Pleiss': '2900000', 'Jeff Withey': '947276'}\n"
     ]
    }
   ],
   "source": [
    "import csv\n",
    "filename=\"nba.csv\"\n",
    "d={}  \n",
    "# opening the file using \"with\"\n",
    "# statement\n",
    "with open(filename,'r') as csv_file:\n",
    "    csv_reader=csv.reader(csv_file,delimiter=',')\n",
    "    line_count=0\n",
    "    for row in csv_reader:\n",
    "        if line_count==0:\n",
    "            print(f'Column names are {\".\".join(row)}')\n",
    "            line_count+=1\n",
    "        else:\n",
    "            d[row[0]]=row[8]        # create a dictionary , use name (row[0] as a key and University  row[7] as a value)      \n",
    "            if line_count<6:        # Line 15/16 are helping you to print the table before line 5\n",
    "                print(f'{\".\".join(row)}')\n",
    "            line_count+=1\n",
    "           \n",
    "            \n",
    "    print(f'Processed {line_count} lines.')\n",
    "    print(d)"
   ]
  },
  {
   "cell_type": "code",
   "execution_count": null,
   "metadata": {
    "collapsed": true
   },
   "outputs": [],
   "source": []
  }
 ],
 "metadata": {
  "kernelspec": {
   "display_name": "Python 3",
   "language": "python",
   "name": "python3"
  },
  "language_info": {
   "codemirror_mode": {
    "name": "ipython",
    "version": 3
   },
   "file_extension": ".py",
   "mimetype": "text/x-python",
   "name": "python",
   "nbconvert_exporter": "python",
   "pygments_lexer": "ipython3",
   "version": "3.6.11"
  }
 },
 "nbformat": 4,
 "nbformat_minor": 2
}
