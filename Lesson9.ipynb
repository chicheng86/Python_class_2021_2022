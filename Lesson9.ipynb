{
 "cells": [
  {
   "cell_type": "code",
   "execution_count": null,
   "metadata": {
    "collapsed": true
   },
   "outputs": [],
   "source": [
    "#please note if your Jupyter notebook does not compatible with turtle, please use\n",
    "# https://replit.com/\n",
    "# or https://trinket.io/\n",
    "# please refer to https://docs.python.org/3/library/turtle.html"
   ]
  },
  {
   "cell_type": "code",
   "execution_count": null,
   "metadata": {
    "collapsed": true
   },
   "outputs": [],
   "source": []
  },
  {
   "cell_type": "code",
   "execution_count": 2,
   "metadata": {
    "collapsed": true
   },
   "outputs": [],
   "source": [
    "# Use turtle to draw a square\n",
    "import turtle\n",
    "cc = turtle.Turtle() \n",
    "cc.shape(\"turtle\")\n",
    "cc.color(\"red\")\n",
    "\n",
    "cc.fd(30)\n",
    "cc.rt(90)\n",
    "cc.fd(30)\n",
    "cc.rt(90)\n",
    "cc.fd(30)\n",
    "cc.rt(90)"
   ]
  },
  {
   "cell_type": "code",
   "execution_count": null,
   "metadata": {
    "collapsed": true
   },
   "outputs": [],
   "source": [
    "# Use turtle to draw a triangle\n",
    "import turtle\n",
    "cc = turtle.Turtle() \n",
    "cc.shape(\"turtle\")\n",
    "cc.color(\"red\")\n",
    "   \n",
    "cc.rt(120)\n",
    "cc.fd(100)\n",
    "cc.rt(120)\n",
    "cc.fd(100)\n",
    "cc.rt(120)\n",
    "cc.fd(100)"
   ]
  },
  {
   "cell_type": "markdown",
   "metadata": {},
   "source": [
    "1. Define a funtion to draw a triangle with no prameter"
   ]
  },
  {
   "cell_type": "code",
   "execution_count": null,
   "metadata": {
    "collapsed": true
   },
   "outputs": [],
   "source": [
    "# Use turtle to draw a triangle\n",
    "import turtle\n",
    "cc = turtle.Turtle() \n",
    "cc.shape(\"turtle\")\n",
    "cc.color(\"red\")\n",
    "\n",
    "def draw_triangle():    \n",
    "    cc.rt(120)\n",
    "    cc.fd(100)\n",
    "    cc.rt(120)\n",
    "    cc.fd(100)\n",
    "    cc.rt(120)\n",
    "    cc.fd(100)\n",
    "        \n",
    "draw_triangle(100)"
   ]
  },
  {
   "cell_type": "markdown",
   "metadata": {},
   "source": [
    "2.Define a funtion to draw a triangle with side lenth as a parameter."
   ]
  },
  {
   "cell_type": "code",
   "execution_count": null,
   "metadata": {
    "collapsed": true
   },
   "outputs": [],
   "source": [
    "import turtle\n",
    "cc = turtle.Turtle() \n",
    "cc.shape(\"turtle\")\n",
    "cc.color(\"red\")\n",
    "\n",
    "def draw_triangle(l):    \n",
    "    cc.rt(120)\n",
    "    cc.fd(l)\n",
    "    cc.rt(120)\n",
    "    cc.fd(l)\n",
    "    cc.rt(120)\n",
    "    cc.fd(l)\n",
    "        \n",
    "draw_triangle(100)"
   ]
  },
  {
   "cell_type": "markdown",
   "metadata": {},
   "source": [
    "3.Define a funtion to draw a triangle with side lenth as a parameter with for loop"
   ]
  },
  {
   "cell_type": "code",
   "execution_count": null,
   "metadata": {
    "collapsed": true
   },
   "outputs": [],
   "source": [
    "import turtle\n",
    "cc = turtle.Turtle() \n",
    "cc.shape(\"turtle\")\n",
    "cc.color(\"red\")\n",
    "\n",
    "def draw_triangle(l):\n",
    "    for i in range(3):\n",
    "        cc.rt(120)\n",
    "        cc.fd(l)\n",
    "        \n",
    "draw_triangle(100)"
   ]
  },
  {
   "cell_type": "code",
   "execution_count": null,
   "metadata": {
    "collapsed": true
   },
   "outputs": [],
   "source": [
    "# 1. Homework Debrief:\n",
    "# 2. encapuslation and generalization\n",
    "# 3. For loop explanation.\n",
    "# 4. How to use for loop./nested for loop\n",
    "# 5. If have time, we talk about concept of interface design."
   ]
  },
  {
   "cell_type": "code",
   "execution_count": null,
   "metadata": {
    "collapsed": true
   },
   "outputs": [],
   "source": [
    "# How to draw a hexagon\n",
    "cc.fd(100)\n",
    "cc.lt(60)\n",
    "cc.fd(100)\n",
    "cc.lt(60)\n",
    "cc.fd(100)\n",
    "cc.lt(60)\n",
    "cc.fd(100)\n",
    "cc.lt(60)\n",
    "cc.fd(100)\n",
    "cc.lt(60)"
   ]
  },
  {
   "cell_type": "markdown",
   "metadata": {},
   "source": [
    "# Wrapping a piece of code up in a function is called encapsulation"
   ]
  },
  {
   "cell_type": "markdown",
   "metadata": {},
   "source": [
    "# Adding a parameter to a function is called generalization because it makes the function more general"
   ]
  },
  {
   "cell_type": "markdown",
   "metadata": {},
   "source": [
    "# The interface of a function is a summary of how it is used: what are the parameters? What\n",
    "does the function do? And what is the return value? An interface is “clean” if it is “as\n",
    "simple as possible, but not simpler. (Einstein)”"
   ]
  },
  {
   "cell_type": "code",
   "execution_count": null,
   "metadata": {
    "collapsed": true
   },
   "outputs": [],
   "source": [
    "def draw_hexagon(x):\n",
    "    for i in range(6):\n",
    "        cc.fd(x)\n",
    "        cc.lt(60)\n",
    " \n",
    "x=60\n",
    "draw_hexagon(x)"
   ]
  },
  {
   "cell_type": "code",
   "execution_count": null,
   "metadata": {
    "collapsed": true
   },
   "outputs": [],
   "source": [
    "side=4\n",
    "x=60\n",
    "\n",
    "def draw_shape(x,side):\n",
    "    for i in range(side):\n",
    "        cc.fd(x)\n",
    "        cc.lt(360/side)\n",
    "\n",
    "draw_shape(x,side)"
   ]
  },
  {
   "cell_type": "code",
   "execution_count": null,
   "metadata": {
    "collapsed": true
   },
   "outputs": [],
   "source": []
  }
 ],
 "metadata": {
  "kernelspec": {
   "display_name": "Python 3",
   "language": "python",
   "name": "python3"
  },
  "language_info": {
   "codemirror_mode": {
    "name": "ipython",
    "version": 3
   },
   "file_extension": ".py",
   "mimetype": "text/x-python",
   "name": "python",
   "nbconvert_exporter": "python",
   "pygments_lexer": "ipython3",
   "version": "3.6.11"
  }
 },
 "nbformat": 4,
 "nbformat_minor": 2
}
