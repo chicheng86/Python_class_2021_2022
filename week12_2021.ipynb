{
 "cells": [
  {
   "cell_type": "markdown",
   "metadata": {},
   "source": [
    "Recap:\n",
    "1) Boolean: True and False\n",
    "2)logical operators: and, or, not\n",
    "3)conditional statement:\n",
    "if + boolean statement :\n",
    "    "
   ]
  },
  {
   "cell_type": "markdown",
   "metadata": {},
   "source": [
    "Homework Recap: \n",
    "1) If raining and if \"I have umbrella \", print('bring my umbrella!') \n",
    "2) If it rains but I do not have an umbrella, print (\"bad luck !)\n",
    "3) if I have an umbrella, but it doesn't rain, print(\"no worries\")"
   ]
  },
  {
   "cell_type": "code",
   "execution_count": 11,
   "metadata": {},
   "outputs": [
    {
     "data": {
      "text/plain": [
       "False"
      ]
     },
     "execution_count": 11,
     "metadata": {},
     "output_type": "execute_result"
    }
   ],
   "source": [
    "True and True and True and False   #more than 1 (include 1) False connected by \"and\" you will get a False"
   ]
  },
  {
   "cell_type": "code",
   "execution_count": 12,
   "metadata": {},
   "outputs": [
    {
     "data": {
      "text/plain": [
       "True"
      ]
     },
     "execution_count": 12,
     "metadata": {},
     "output_type": "execute_result"
    }
   ],
   "source": [
    "True or False or True #more than 1 True (include 1), connected by \"or\", you will get True"
   ]
  },
  {
   "cell_type": "code",
   "execution_count": null,
   "metadata": {
    "collapsed": true
   },
   "outputs": [],
   "source": [
    "\"==\" Comparing\n",
    "\"=\" Assingning"
   ]
  },
  {
   "cell_type": "code",
   "execution_count": null,
   "metadata": {
    "collapsed": true
   },
   "outputs": [],
   "source": [
    "\"!=\" Not equal (still comparing)"
   ]
  },
  {
   "cell_type": "code",
   "execution_count": 4,
   "metadata": {},
   "outputs": [
    {
     "name": "stdout",
     "output_type": "stream",
     "text": [
      "no worries!\n"
     ]
    }
   ],
   "source": [
    "Raining= False #or False\n",
    "I_have_umbrella=True\n",
    "if Raining and I_have_umbrella:\n",
    "    print('bring my umbrella!')\n",
    "if Raining and (I_have_umbrella==False):# Raining means Raining==True\n",
    "    print('bad luck!')\n",
    "if (Raining==False)and (I_have_umbrella==True):\n",
    "    print('no worries!')\n",
    "if (Raining==False) and (I_have_umbrella==False):\n",
    "    print('I can play tag.')"
   ]
  },
  {
   "cell_type": "code",
   "execution_count": null,
   "metadata": {
    "collapsed": true
   },
   "outputs": [],
   "source": []
  },
  {
   "cell_type": "code",
   "execution_count": 7,
   "metadata": {
    "collapsed": true
   },
   "outputs": [],
   "source": [
    "def T_REX(Raining,I_have_umbrella):\n",
    "    if Raining and I_have_umbrella:\n",
    "        print('bring my umbrella!')\n",
    "    if Raining and (I_have_umbrella==False):# Raining means Raining==True\n",
    "        print('bad luck!')\n",
    "    if (Raining==False)and (I_have_umbrella==True):\n",
    "        print('no worries!')\n",
    "    if (Raining==False) and (I_have_umbrella==False):\n",
    "        print('I can play tag.')\n",
    "    "
   ]
  },
  {
   "cell_type": "code",
   "execution_count": 8,
   "metadata": {},
   "outputs": [
    {
     "name": "stdout",
     "output_type": "stream",
     "text": [
      "bad luck!\n"
     ]
    }
   ],
   "source": [
    "# When raining and I do not have umbrella:\n",
    "Raining=True\n",
    "I_have_umbrella=False\n",
    "T_REX(Raining,I_have_umbrella)"
   ]
  },
  {
   "cell_type": "code",
   "execution_count": 9,
   "metadata": {},
   "outputs": [
    {
     "name": "stdout",
     "output_type": "stream",
     "text": [
      "bad luck!\n"
     ]
    }
   ],
   "source": [
    "T_REX(True,False)"
   ]
  },
  {
   "cell_type": "markdown",
   "metadata": {},
   "source": [
    "Lab: Write a function to tell if a number is an even number or an odd number.\n",
    "What are even and odd numbers? Even numbers are divisible by 2 without remainders. They end in 0, 2, 4, 6, or 8. Odd numbers are not evenly divisible by 2 and end in 1, 3, 5, 7, or 9."
   ]
  },
  {
   "cell_type": "code",
   "execution_count": 10,
   "metadata": {},
   "outputs": [
    {
     "data": {
      "text/plain": [
       "0"
      ]
     },
     "execution_count": 10,
     "metadata": {},
     "output_type": "execute_result"
    }
   ],
   "source": [
    "14%2"
   ]
  },
  {
   "cell_type": "code",
   "execution_count": 11,
   "metadata": {},
   "outputs": [
    {
     "data": {
      "text/plain": [
       "1"
      ]
     },
     "execution_count": 11,
     "metadata": {},
     "output_type": "execute_result"
    }
   ],
   "source": [
    "15%2"
   ]
  },
  {
   "cell_type": "code",
   "execution_count": 13,
   "metadata": {},
   "outputs": [
    {
     "name": "stdout",
     "output_type": "stream",
     "text": [
      "1\n"
     ]
    }
   ],
   "source": [
    "import random\n",
    "number = random.randint(1, 10)\n",
    "print(number)"
   ]
  },
  {
   "cell_type": "code",
   "execution_count": 14,
   "metadata": {},
   "outputs": [
    {
     "name": "stdout",
     "output_type": "stream",
     "text": [
      "odd\n"
     ]
    }
   ],
   "source": [
    "if number%2==0:\n",
    "    print('even')\n",
    "if number%2==1:\n",
    "    print('odd')"
   ]
  },
  {
   "cell_type": "code",
   "execution_count": 15,
   "metadata": {},
   "outputs": [
    {
     "name": "stdout",
     "output_type": "stream",
     "text": [
      "odd\n"
     ]
    }
   ],
   "source": [
    "if number%2==0:\n",
    "    print('even')\n",
    "else:\n",
    "    print('odd')"
   ]
  },
  {
   "cell_type": "code",
   "execution_count": 16,
   "metadata": {},
   "outputs": [
    {
     "name": "stdout",
     "output_type": "stream",
     "text": [
      "odd\n"
     ]
    }
   ],
   "source": [
    "def evenoroddtest(number):\n",
    "    if number%2==0:\n",
    "        print('even')\n",
    "    else:\n",
    "        print('odd')\n",
    "evenoroddtest(number)   "
   ]
  },
  {
   "cell_type": "code",
   "execution_count": 18,
   "metadata": {},
   "outputs": [
    {
     "name": "stdout",
     "output_type": "stream",
     "text": [
      "even\n"
     ]
    }
   ],
   "source": [
    "evenoroddtest(8)"
   ]
  },
  {
   "cell_type": "code",
   "execution_count": null,
   "metadata": {
    "collapsed": true
   },
   "outputs": [],
   "source": [
    "# elif (more than 3 excutions based on the conditional statements)\n",
    "# else (only 2 excutions based on the condtional statments)"
   ]
  },
  {
   "cell_type": "code",
   "execution_count": 6,
   "metadata": {},
   "outputs": [
    {
     "name": "stdout",
     "output_type": "stream",
     "text": [
      "6\n",
      "6is even\n",
      "13is odd\n"
     ]
    }
   ],
   "source": [
    "#5.5 Alternative execution\n",
    "import random\n",
    "number = random.randint(1, 10)\n",
    "print(number)\n",
    "def evenorodd(number):\n",
    "    if number%2==1:\n",
    "        print(str(number)+'is odd')\n",
    "    else:\n",
    "        print(str(number)+'is even')\n",
    "evenorodd(number)\n",
    "evenorodd(13)"
   ]
  },
  {
   "cell_type": "code",
   "execution_count": null,
   "metadata": {
    "collapsed": true
   },
   "outputs": [],
   "source": [
    "# Password:\n",
    "# the user input \"guessnumber\"\n",
    "Password=8\n",
    "guessnumber=6\n",
    "# 1 if guessnumber is the same as the password, print, bingo\n",
    "# 2. if guessnumber is smaller than the password, print, your guess is smaller.\n",
    "# 3. if guessnumber is larger than the password, print, your guess is larger.\n",
    "# Suggest you to use, if, elif, else."
   ]
  },
  {
   "cell_type": "code",
   "execution_count": null,
   "metadata": {
    "collapsed": true
   },
   "outputs": [],
   "source": [
    "password=9\n",
    "guessnumber=6\n",
    "if guessnumber==password:\n",
    "    print('bingo')\n",
    "elif (guessnumber<password):\n",
    "    print('Your guess is too small!')\n",
    "else:\n",
    "    print('Your guess is too large !')"
   ]
  },
  {
   "cell_type": "code",
   "execution_count": 19,
   "metadata": {},
   "outputs": [
    {
     "name": "stdout",
     "output_type": "stream",
     "text": [
      "Your guess is too small!\n"
     ]
    }
   ],
   "source": [
    "password=9\n",
    "guessnumber=6\n",
    "if guessnumber==password:\n",
    "    print('bingo')\n",
    "elif (guessnumber<password):\n",
    "    print('Your guess is too small!')\n",
    "elif (guessnumber>password):\n",
    "    print('Your guess is too large !')\n"
   ]
  },
  {
   "cell_type": "code",
   "execution_count": 10,
   "metadata": {},
   "outputs": [
    {
     "name": "stdout",
     "output_type": "stream",
     "text": [
      "2\n",
      "guess:13\n",
      "Try again!\n"
     ]
    }
   ],
   "source": [
    "import random\n",
    "number=random.randint(1,10)\n",
    "print(number)\n",
    "\n",
    "userinput=input('guess:')\n",
    "if userinput==number:\n",
    "    print('Bingo!')\n",
    "else:\n",
    "    print('Try again!')\n",
    "    \n",
    "# if your input number is smaller than the guessnumber.\n",
    "# if you input number is larger than the guess number.\n"
   ]
  },
  {
   "cell_type": "code",
   "execution_count": null,
   "metadata": {
    "collapsed": true
   },
   "outputs": [],
   "source": [
    "#homework from Alex Chang#\n",
    "\n",
    "import random\n",
    "number = random.randint(1, 10)\n",
    "\n",
    "player_name = input(\"Hello, What's your name? \")\n",
    "number_of_guesses = 0\n",
    "print('okay! '+ player_name+ ' I am Guessing a number between 1 and 10:')\n",
    "\n",
    "while number_of_guesses < 5:\n",
    "    guess = int(input())\n",
    "    number_of_guesses += 1\n",
    "    if guess < number:\n",
    "        print('Your guess is too low')\n",
    "    if guess > number:\n",
    "        print('Your guess is too high')\n",
    "    if guess == number:\n",
    "        break\n",
    "if guess == number:\n",
    "    print('You guessed the number in ' + str(number_of_guesses) + ' tries!')\n",
    "else:\n",
    "    print('You did not guess the number, The number was ' + str(number))"
   ]
  },
  {
   "cell_type": "code",
   "execution_count": null,
   "metadata": {
    "collapsed": true
   },
   "outputs": [],
   "source": [
    "#5.6 Chained conditionals\n"
   ]
  }
 ],
 "metadata": {
  "kernelspec": {
   "display_name": "Python 3",
   "language": "python",
   "name": "python3"
  },
  "language_info": {
   "codemirror_mode": {
    "name": "ipython",
    "version": 3
   },
   "file_extension": ".py",
   "mimetype": "text/x-python",
   "name": "python",
   "nbconvert_exporter": "python",
   "pygments_lexer": "ipython3",
   "version": "3.6.11"
  }
 },
 "nbformat": 4,
 "nbformat_minor": 2
}
